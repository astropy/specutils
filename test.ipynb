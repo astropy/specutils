{
  "cells": [
    {
      "cell_type": "markdown",
      "metadata": {
        "jukit_cell_id": "EudVIMyXP8"
      },
      "source": [
        "Hello!"
      ]
    },
    {
      "cell_type": "code",
      "metadata": {
        "jukit_cell_id": "CSGfqztTds"
      },
      "source": [
        "%load_ext autoreload\n",
        "%autoreload 2\n",
        "%matplotlib inline\n",
        "import matplotlib.pyplot as plt\n",
        "import scienceplots\n",
        "import astropy.visualization as viz\n",
        "import astropy.units as u\n",
        "import numpy as np\n",
        "\n",
        "import sdss_v\n",
        "\n",
        "import matplotlib as mpl\n",
        "mpl.use(\"module://matplotlib-backend-kitty\")"
      ],
      "outputs": [
        {
          "output_type": "stream",
          "name": "stdout",
          "text": "GUI event loop hook disabled.\n"
        }
      ],
      "execution_count": 1
    },
    {
      "cell_type": "markdown",
      "metadata": {
        "jukit_cell_id": "HUnn0AELlP"
      },
      "source": [
        "ApStar.fits -> Spectrum1D"
      ]
    },
    {
      "cell_type": "code",
      "metadata": {
        "jukit_cell_id": "1VXcbmCQDE"
      },
      "source": [
        "spectrum = sdss_v.load_sdss_apStar(\n",
        "    \"/home/riley/uni/rproj/data/apStar-1.2-apo25m-2M05560393-0133549.fits\")\n",
        "print(spectrum)\n",
        "print(type(spectrum))"
      ],
      "outputs": [
        {
          "output_type": "stream",
          "name": "stdout",
          "text": "Spectrum1D (length=8575)\nflux 0:           [ nan 1e-17 erg / (Angstrom s cm2), ..., nan 1e-17 erg / (Angstrom s cm2) ],  mean=nan 1e-17 erg / (Angstrom s cm2)\nspectral axis:    [ 1.5101e+04 Angstrom, ..., 1.7e+04 Angstrom ],  mean=1.6032e+04 Angstrom\nuncertainty:      [ StdDevUncertainty([0., 0., 0., ..., 0., 0., 0.]), ..., StdDevUncertainty([0., 0., 0., ..., 0., 0., 0.]) ]\n<class 'specutils.spectra.spectrum1d.Spectrum1D'>\n"
        }
      ],
      "execution_count": 2
    },
    {
      "cell_type": "code",
      "metadata": {
        "jukit_cell_id": "FFfDu7vYi7"
      },
      "source": [
        "with viz.quantity_support():\n",
        "    plt.plot(spectrum.spectral_axis,np.transpose(spectrum.flux))\n",
        "plt.show()"
      ],
      "outputs": [],
      "execution_count": null
    },
    {
      "cell_type": "markdown",
      "metadata": {
        "jukit_cell_id": "7EKchx373x"
      },
      "source": [
        "ApStar -> SpectrumList \n",
        "\n",
        "For some reason, this test file doesn't seem to have visit spectra."
      ]
    },
    {
      "cell_type": "code",
      "metadata": {
        "jukit_cell_id": "Fru1CCLRFU"
      },
      "source": [
        "spectra = sdss_v.load_sdss_apStar_list(\n",
        "    \"/home/riley/uni/rproj/data/apStar-1.2-apo25m-2M05560393-0133549.fits\")\n",
        "print(spectra)\n",
        "print(type(spectra))\n",
        "print(type(spectra[0]))"
      ],
      "outputs": [
        {
          "output_type": "stream",
          "name": "stdout",
          "text": "[<Spectrum1D(flux=<Quantity [[nan, nan, nan, ..., nan, nan, nan]] 1e-17 erg / (Angstrom s cm2)>, spectral_axis=<SpectralAxis [15100.80154164, 15101.01016837, 15101.21879797, ..., 16999.33764338,\n   16999.57249953, 16999.80735892] Angstrom>, uncertainty=StdDevUncertainty([[0., 0., 0., ..., 0., 0., 0.]]))>]\n<class 'specutils.spectra.spectrum_list.SpectrumList'>\n<class 'specutils.spectra.spectrum1d.Spectrum1D'>\n"
        }
      ],
      "execution_count": 3
    },
    {
      "cell_type": "code",
      "metadata": {
        "jukit_cell_id": "POT0OZmbyH"
      },
      "source": [
        "spectrum = spectra[0]\n",
        "with viz.quantity_support():\n",
        "    plt.plot(spectrum.spectral_axis,np.transpose(spectrum.flux))\n",
        "plt.show()"
      ],
      "outputs": [],
      "execution_count": null
    },
    {
      "cell_type": "markdown",
      "metadata": {
        "jukit_cell_id": "UyWl2KZ4CB"
      },
      "source": [
        "apVisit -> SpectrumList"
      ]
    },
    {
      "cell_type": "code",
      "metadata": {
        "jukit_cell_id": "R4cE41Xkjd"
      },
      "source": [
        "spectra= sdss_v.load_sdss_apVisit_multi(\n",
        "    \"/home/riley/uni/rproj/data/apVisit-1.2-apo25m-3786-59637-275.fits\")\n",
        "print(spectra)\n",
        "print(type(spectra))"
      ],
      "outputs": [
        {
          "output_type": "stream",
          "name": "stdout",
          "text": "[<Spectrum1D(flux=<Quantity [ 995.69885,  995.1679 ,  994.62787, ..., 1016.44055, 1016.67975,\n           1016.9065 ] 1e-17 erg / (Angstrom s cm2)>, spectral_axis=<SpectralAxis [16949.12979586, 16949.02349044, 16948.91717929, ..., 16466.9368048 ,\n   16466.80774273, 16466.67867531] Angstrom>, uncertainty=StdDevUncertainty([1867.7604, 1834.6727, 1865.7512, ...,  810.6024,\n                    847.7104,  810.9578]))>, <Spectrum1D(flux=<Quantity [ 934.26416,  934.45447,  934.65906, ..., 1121.2147 , 1120.9407 ,\n           1120.6666 ] 1e-17 erg / (Angstrom s cm2)>, spectral_axis=<SpectralAxis [16428.90664458, 16428.77601015, 16428.64537037, ..., 15850.47184915,\n   15850.32009729, 15850.16834047] Angstrom>, uncertainty=StdDevUncertainty([859.93384, 839.98553, 860.2974 , ..., 756.44727,\n                   805.94037, 756.0776 ]))>, <Spectrum1D(flux=<Quantity [1060.91  , 1060.6465, 1060.3623, ..., 1132.2631, 1132.8242,\n           1132.9303] 1e-17 erg / (Angstrom s cm2)>, spectral_axis=<SpectralAxis [15803.07479676, 15802.9214863 , 15802.76817091, ..., 15135.23682615,\n   15135.06405794, 15134.89128517] Angstrom>, uncertainty=StdDevUncertainty([616.4587 , 638.2667 , 616.14044, ..., 745.99677,\n                   767.6934 , 745.2369 ]))>]\n<class 'specutils.spectra.spectrum_list.SpectrumList'>\n"
        }
      ],
      "execution_count": 4
    },
    {
      "cell_type": "code",
      "metadata": {
        "jukit_cell_id": "45zqQFCHg3"
      },
      "source": [
        "with viz.quantity_support():\n",
        "    for spectrum in spectra:\n",
        "        plt.plot(spectrum.spectral_axis,np.transpose(spectrum.flux))\n",
        "plt.show()"
      ],
      "outputs": [],
      "execution_count": null
    },
    {
      "cell_type": "markdown",
      "metadata": {
        "jukit_cell_id": "TOEIEGGL9M"
      },
      "source": [
        "apVisit -> Spectrum1D\n",
        "\n",
        "compiles all chips into a single spectra by concatenating the 3 chips. Not sure if this is what we're after?"
      ]
    },
    {
      "cell_type": "code",
      "metadata": {
        "jukit_cell_id": "ApSShh1BtL"
      },
      "source": [
        "spectrum= sdss_v.load_sdss_apVisit(\n",
        "    \"/home/riley/uni/rproj/data/apVisit-1.2-apo25m-3786-59637-275.fits\")\n",
        "print(spectrum)\n",
        "print(type(spectrum))"
      ],
      "outputs": [
        {
          "output_type": "stream",
          "name": "stdout",
          "text": "[16949.12979586 16949.02349044 16948.91717929 ... 15135.23682615\n 15135.06405794 15134.89128517] Angstrom\nSpectrum1D (length=12288)\nflux:             [ 995.7 1e-17 erg / (Angstrom s cm2), ..., 1132.9 1e-17 erg / (Angstrom s cm2) ],  mean=1042.0 1e-17 erg / (Angstrom s cm2)\nspectral axis:    [ 1.6949e+04 Angstrom, ..., 1.5135e+04 Angstrom ],  mean=1.6113e+04 Angstrom\nuncertainty:      [ StdDevUncertainty(1867.7604), ..., StdDevUncertainty(745.2369) ]\n<class 'specutils.spectra.spectrum1d.Spectrum1D'>\n"
        }
      ],
      "execution_count": 5
    },
    {
      "cell_type": "code",
      "metadata": {
        "jukit_cell_id": "PkHUQw0tM3"
      },
      "source": [
        "with viz.quantity_support():\n",
        "    plt.plot(spectrum.spectral_axis,np.transpose(spectrum.flux))\n",
        "plt.show()"
      ],
      "outputs": [],
      "execution_count": null
    },
    {
      "cell_type": "markdown",
      "metadata": {
        "jukit_cell_id": "lkl6AQvnpl"
      },
      "source": [
        "Other testing -- ignore"
      ]
    },
    {
      "cell_type": "code",
      "metadata": {
        "jukit_cell_id": "ybE9h22peP"
      },
      "source": [
        "image = fits.open(\"/home/riley/uni/rproj/data/apVisit-1.2-apo25m-3786-59637-275.fits\")"
      ],
      "outputs": [],
      "execution_count": null
    }
  ],
  "metadata": {
    "anaconda-cloud": {},
    "kernelspec": {
      "display_name": "python",
      "language": "python",
      "name": "python3"
    }
  },
  "nbformat": 4,
  "nbformat_minor": 4
}